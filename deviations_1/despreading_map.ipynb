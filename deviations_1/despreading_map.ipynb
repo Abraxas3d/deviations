{
 "cells": [
  {
   "cell_type": "markdown",
   "metadata": {},
   "source": [
    "# CDMA Despreading Code Mapping\n",
    "\n",
    "The \"Map\" block in GNU Radio can easily spread a binary symbol into two selected codewords by using a map of [codeword0, codeword1]. To do the opposite operation, though, a map of all the possible values of len(codeword) chips onto 0 and 1 is needed. This map needs to make sense for any possible value, because there will be demodulation errors. To make sense, it should map each received value onto the value for the nearest codeword (by Hamming distance). For ties, it should do something fair, like passing through the least significant bit in which the codewords differ.\n",
    "\n",
    "This script does just that, creating the map table to be used by a GNU Radio \"Map\" block to convert demodulated chips into symbols.\n",
    "\n",
    "The symbols are treated as binary, and are mapped to 0 or 1, but since they are packed into bytes it doesn't really matter if the modulation is 2-ary, 4-ary, 8-ary, etc.\n",
    "\n",
    "I don't know how big the codewords can get before the Map block chokes. At some point you'd do better to write a custom nearest-neighbor despreading block."
   ]
  },
  {
   "cell_type": "code",
   "execution_count": 38,
   "metadata": {},
   "outputs": [],
   "source": [
    "# Describe your code in this block\n",
    "# code words packed into arbitrary-width integers\n",
    "code = [ 0x0f, 0xf0 ]   # 8-bit code words (4 symbols of QPSK, perhaps)\n",
    "codeword_length = 8     # number of bits (not symbols) in the code words\n",
    "tiebreaker_mask = 0x01  # bit(s) to use if received bits are midway between the code words\n",
    "\n",
    "# another example\n",
    "# code = [ 0x12345, 0x0abcd ]\n",
    "# codeword_length = 17\n",
    "# tiebreaker_mask = 0x0008"
   ]
  },
  {
   "cell_type": "code",
   "execution_count": 39,
   "metadata": {},
   "outputs": [],
   "source": [
    "assert(len(code) == 2)  # we decode only 0 or 1, so need only two codewords\n",
    "codeword_range = 2**codeword_length"
   ]
  },
  {
   "cell_type": "code",
   "execution_count": 40,
   "metadata": {},
   "outputs": [],
   "source": [
    "despread_map = [0]*codeword_range"
   ]
  },
  {
   "cell_type": "code",
   "execution_count": 41,
   "metadata": {},
   "outputs": [],
   "source": [
    "def hamming_distance(a,b):\n",
    "    ones = a ^ b\n",
    "    return bin(ones).count('1')"
   ]
  },
  {
   "cell_type": "code",
   "execution_count": 42,
   "metadata": {},
   "outputs": [],
   "source": [
    "for codeword in range(0,codeword_range):\n",
    "    if hamming_distance(codeword, code[1]) > hamming_distance(codeword, code[0]):\n",
    "        despread_map[codeword] = 1\n",
    "    elif hamming_distance(codeword, code[1]) == hamming_distance(codeword, code[0]):\n",
    "        if codeword & tiebreaker_mask:\n",
    "            despread_map[codeword] = 1"
   ]
  },
  {
   "cell_type": "code",
   "execution_count": 43,
   "metadata": {},
   "outputs": [
    {
     "name": "stdout",
     "output_type": "stream",
     "text": [
      "[0, 1, 1, 1, 1, 1, 1, 1, 1, 1, 1, 1, 1, 1, 1, 1, 0, 1, 0, 1, 0, 1, 1, 1, 0, 1, 1, 1, 1, 1, 1, 1, 0, 1, 0, 1, 0, 1, 1, 1, 0, 1, 1, 1, 1, 1, 1, 1, 0, 0, 0, 1, 0, 1, 0, 1, 0, 1, 0, 1, 0, 1, 1, 1, 0, 1, 0, 1, 0, 1, 1, 1, 0, 1, 1, 1, 1, 1, 1, 1, 0, 0, 0, 1, 0, 1, 0, 1, 0, 1, 0, 1, 0, 1, 1, 1, 0, 0, 0, 1, 0, 1, 0, 1, 0, 1, 0, 1, 0, 1, 1, 1, 0, 0, 0, 0, 0, 0, 0, 1, 0, 0, 0, 1, 0, 1, 0, 1, 0, 1, 0, 1, 0, 1, 1, 1, 0, 1, 1, 1, 1, 1, 1, 1, 0, 0, 0, 1, 0, 1, 0, 1, 0, 1, 0, 1, 0, 1, 1, 1, 0, 0, 0, 1, 0, 1, 0, 1, 0, 1, 0, 1, 0, 1, 1, 1, 0, 0, 0, 0, 0, 0, 0, 1, 0, 0, 0, 1, 0, 1, 0, 1, 0, 0, 0, 1, 0, 1, 0, 1, 0, 1, 0, 1, 0, 1, 1, 1, 0, 0, 0, 0, 0, 0, 0, 1, 0, 0, 0, 1, 0, 1, 0, 1, 0, 0, 0, 0, 0, 0, 0, 1, 0, 0, 0, 1, 0, 1, 0, 1, 0, 0, 0, 0, 0, 0, 0, 0, 0, 0, 0, 0, 0, 0, 0, 1]\n"
     ]
    }
   ],
   "source": [
    "print(despread_map)"
   ]
  },
  {
   "cell_type": "markdown",
   "metadata": {},
   "source": [
    "# Preamble Computation\n",
    "\n",
    "This is what the preamble looks like after it has been spread with this code.\n",
    "\n",
    "That's not ever something we should really do, though. The preamble should be constant when expressed in symbols."
   ]
  },
  {
   "cell_type": "code",
   "execution_count": 44,
   "metadata": {},
   "outputs": [
    {
     "name": "stdout",
     "output_type": "stream",
     "text": [
      "[( 0.707 + 0.707j),( 0.707 + 0.707j),( 0.707 - 0.707j),( 0.707 - 0.707j),( 0.707 - 0.707j),( 0.707 - 0.707j),( 0.707 + 0.707j),( 0.707 + 0.707j),( 0.707 + 0.707j),( 0.707 + 0.707j),( 0.707 - 0.707j),( 0.707 - 0.707j),( 0.707 - 0.707j),( 0.707 - 0.707j),( 0.707 + 0.707j),( 0.707 + 0.707j),( 0.707 - 0.707j),( 0.707 - 0.707j),( 0.707 + 0.707j),( 0.707 + 0.707j),( 0.707 + 0.707j),( 0.707 + 0.707j),( 0.707 - 0.707j),( 0.707 - 0.707j),( 0.707 - 0.707j),( 0.707 - 0.707j),( 0.707 + 0.707j),( 0.707 + 0.707j),( 0.707 + 0.707j),( 0.707 + 0.707j),( 0.707 - 0.707j),( 0.707 - 0.707j),( 0.707 + 0.707j),( 0.707 + 0.707j),( 0.707 - 0.707j),( 0.707 - 0.707j),( 0.707 + 0.707j),( 0.707 + 0.707j),( 0.707 - 0.707j),( 0.707 - 0.707j),( 0.707 + 0.707j),( 0.707 + 0.707j),( 0.707 - 0.707j),( 0.707 - 0.707j),( 0.707 + 0.707j),( 0.707 + 0.707j),( 0.707 - 0.707j),( 0.707 - 0.707j),( 0.707 - 0.707j),( 0.707 - 0.707j),( 0.707 + 0.707j),( 0.707 + 0.707j),( 0.707 - 0.707j),( 0.707 - 0.707j),( 0.707 + 0.707j),( 0.707 + 0.707j),( 0.707 - 0.707j),( 0.707 - 0.707j),( 0.707 + 0.707j),( 0.707 + 0.707j),( 0.707 - 0.707j),( 0.707 - 0.707j),( 0.707 + 0.707j),( 0.707 + 0.707j),( 0.707 - 0.707j),( 0.707 - 0.707j),( 0.707 + 0.707j),( 0.707 + 0.707j),( 0.707 + 0.707j),( 0.707 + 0.707j),( 0.707 - 0.707j),( 0.707 - 0.707j),( 0.707 - 0.707j),( 0.707 - 0.707j),( 0.707 + 0.707j),( 0.707 + 0.707j),( 0.707 - 0.707j),( 0.707 - 0.707j),( 0.707 + 0.707j),( 0.707 + 0.707j),( 0.707 - 0.707j),( 0.707 - 0.707j),( 0.707 + 0.707j),( 0.707 + 0.707j),( 0.707 - 0.707j),( 0.707 - 0.707j),( 0.707 + 0.707j),( 0.707 + 0.707j),( 0.707 - 0.707j),( 0.707 - 0.707j),( 0.707 + 0.707j),( 0.707 + 0.707j),( 0.707 + 0.707j),( 0.707 + 0.707j),( 0.707 - 0.707j),( 0.707 - 0.707j),( 0.707 + 0.707j),( 0.707 + 0.707j),( 0.707 - 0.707j),( 0.707 - 0.707j),( 0.707 - 0.707j),( 0.707 - 0.707j),( 0.707 + 0.707j),( 0.707 + 0.707j),( 0.707 - 0.707j),( 0.707 - 0.707j),( 0.707 + 0.707j),( 0.707 + 0.707j),( 0.707 + 0.707j),( 0.707 + 0.707j),( 0.707 - 0.707j),( 0.707 - 0.707j),( 0.707 + 0.707j),( 0.707 + 0.707j),( 0.707 - 0.707j),( 0.707 - 0.707j),( 0.707 - 0.707j),( 0.707 - 0.707j),( 0.707 + 0.707j),( 0.707 + 0.707j),( 0.707 - 0.707j),( 0.707 - 0.707j),( 0.707 + 0.707j),( 0.707 + 0.707j),( 0.707 + 0.707j),( 0.707 + 0.707j),( 0.707 - 0.707j),( 0.707 - 0.707j),]\n"
     ]
    }
   ],
   "source": [
    "preamble = [0,1,0,1,1,0,1,0,0,0,0,0,1,1,1,1,1,0,1,1,1,1,1,0,0,1,1,0,0,1,1,0]\n",
    "\n",
    "modulation = [\"( 0.707 + 0.707j),\",\n",
    "              \"(-0.707 + 0.707j),\",\n",
    "              \"(-0.707 - 0.707j),\",\n",
    "              \"( 0.707 - 0.707j),\"]\n",
    "\n",
    "def codeword_to_chips(cw):\n",
    "    s = \"\"\n",
    "    symbol = (cw & 0xc0) >> 6\n",
    "    s += modulation[symbol]\n",
    "    symbol = (cw & 0x30) >> 4\n",
    "    s += modulation[symbol]\n",
    "    symbol = (cw & 0x0c) >> 2\n",
    "    s += modulation[symbol]\n",
    "    symbol = (cw & 0x03)\n",
    "    s += modulation[symbol]\n",
    "    return s\n",
    "\n",
    "chips = [codeword_to_chips(code[0]), codeword_to_chips(code[1])]\n",
    "\n",
    "print('[', end='')\n",
    "\n",
    "for b in preamble:\n",
    "    print(chips[b], end='')\n",
    "    \n",
    "print(']')"
   ]
  },
  {
   "cell_type": "code",
   "execution_count": null,
   "metadata": {},
   "outputs": [],
   "source": []
  },
  {
   "cell_type": "code",
   "execution_count": null,
   "metadata": {},
   "outputs": [],
   "source": []
  }
 ],
 "metadata": {
  "kernelspec": {
   "display_name": "Python 3",
   "language": "python",
   "name": "python3"
  },
  "language_info": {
   "codemirror_mode": {
    "name": "ipython",
    "version": 3
   },
   "file_extension": ".py",
   "mimetype": "text/x-python",
   "name": "python",
   "nbconvert_exporter": "python",
   "pygments_lexer": "ipython3",
   "version": "3.8.5"
  }
 },
 "nbformat": 4,
 "nbformat_minor": 4
}
